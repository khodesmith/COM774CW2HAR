{
 "cells": [
  {
   "cell_type": "code",
   "execution_count": 1,
   "metadata": {},
   "outputs": [],
   "source": [
    "import pandas as pd\n",
    "from sklearn.model_selection import train_test_split\n",
    "from sklearn.ensemble import RandomForestClassifier\n",
    "from sklearn.preprocessing import StandardScaler, LabelEncoder\n",
    "from sklearn.metrics import classification_report, confusion_matrix\n"
   ]
  },
  {
   "cell_type": "code",
   "execution_count": 2,
   "metadata": {},
   "outputs": [
    {
     "name": "stdout",
     "output_type": "stream",
     "text": [
      "Classification Report:\n",
      "                    precision    recall  f1-score   support\n",
      "\n",
      "            LAYING       1.00      1.00      1.00       280\n",
      "           SITTING       0.95      0.95      0.95       262\n",
      "          STANDING       0.96      0.96      0.96       276\n",
      "           WALKING       1.00      0.99      0.99       247\n",
      "WALKING_DOWNSTAIRS       0.99      0.98      0.99       206\n",
      "  WALKING_UPSTAIRS       0.97      0.99      0.98       200\n",
      "\n",
      "          accuracy                           0.98      1471\n",
      "         macro avg       0.98      0.98      0.98      1471\n",
      "      weighted avg       0.98      0.98      0.98      1471\n",
      "\n",
      "Confusion Matrix:\n",
      "[[280   0   0   0   0   0]\n",
      " [  0 250  12   0   0   0]\n",
      " [  0  12 264   0   0   0]\n",
      " [  0   0   0 244   0   3]\n",
      " [  0   0   0   0 202   4]\n",
      " [  0   0   0   0   2 198]]\n"
     ]
    }
   ],
   "source": [
    "# Load the dataset\n",
    "# file_path = \"path_to_your_dataset.csv\"  # Replace with your actual dataset path\n",
    "data = pd.read_csv('train.csv')\n",
    "\n",
    "# Preprocess the data\n",
    "# Separate features and target\n",
    "X = data.drop(columns=[\"Activity\", \"subject\"])  # Drop target and subject columns\n",
    "y = data[\"Activity\"]\n",
    "\n",
    "# Encode the target variable (if it's categorical)\n",
    "label_encoder = LabelEncoder()\n",
    "y_encoded = label_encoder.fit_transform(y)\n",
    "\n",
    "# Normalize the features\n",
    "scaler = StandardScaler()\n",
    "X_scaled = scaler.fit_transform(X)\n",
    "\n",
    "# Split the data into training and testing sets\n",
    "X_train, X_test, y_train, y_test = train_test_split(X_scaled, y_encoded, test_size=0.2, random_state=42)\n",
    "\n",
    "# Train a Random Forest Classifier\n",
    "rf_classifier = RandomForestClassifier(n_estimators=100, random_state=42)\n",
    "rf_classifier.fit(X_train, y_train)\n",
    "\n",
    "# Make predictions on the test set\n",
    "y_pred = rf_classifier.predict(X_test)\n",
    "\n",
    "# Evaluate the model\n",
    "print(\"Classification Report:\")\n",
    "print(classification_report(y_test, y_pred, target_names=label_encoder.classes_))\n",
    "\n",
    "print(\"Confusion Matrix:\")\n",
    "print(confusion_matrix(y_test, y_pred))\n"
   ]
  }
 ],
 "metadata": {
  "kernelspec": {
   "display_name": "Python 3",
   "language": "python",
   "name": "python3"
  },
  "language_info": {
   "codemirror_mode": {
    "name": "ipython",
    "version": 3
   },
   "file_extension": ".py",
   "mimetype": "text/x-python",
   "name": "python",
   "nbconvert_exporter": "python",
   "pygments_lexer": "ipython3",
   "version": "3.13.0"
  }
 },
 "nbformat": 4,
 "nbformat_minor": 2
}
